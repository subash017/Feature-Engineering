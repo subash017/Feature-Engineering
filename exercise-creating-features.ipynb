{
 "cells": [
  {
   "cell_type": "markdown",
   "id": "0a2a2cfb",
   "metadata": {
    "papermill": {
     "duration": 0.007406,
     "end_time": "2022-09-30T15:01:43.397088",
     "exception": false,
     "start_time": "2022-09-30T15:01:43.389682",
     "status": "completed"
    },
    "tags": []
   },
   "source": [
    "**This notebook is an exercise in the [Feature Engineering](https://www.kaggle.com/learn/feature-engineering) course.  You can reference the tutorial at [this link](https://www.kaggle.com/ryanholbrook/creating-features).**\n",
    "\n",
    "---\n"
   ]
  },
  {
   "cell_type": "markdown",
   "id": "6770ec99",
   "metadata": {
    "papermill": {
     "duration": 0.005439,
     "end_time": "2022-09-30T15:01:43.408809",
     "exception": false,
     "start_time": "2022-09-30T15:01:43.403370",
     "status": "completed"
    },
    "tags": []
   },
   "source": [
    "# Introduction #\n",
    "\n",
    "In this exercise you'll start developing the features you identified in Exercise 2 as having the most potential. As you work through this exercise, you might take a moment to look at the data documentation again and consider whether the features we're creating make sense from a real-world perspective, and whether there are any useful combinations that stand out to you.\n",
    "\n",
    "Run this cell to set everything up!"
   ]
  },
  {
   "cell_type": "code",
   "execution_count": 1,
   "id": "3e3661d3",
   "metadata": {
    "execution": {
     "iopub.execute_input": "2022-09-30T15:01:43.424186Z",
     "iopub.status.busy": "2022-09-30T15:01:43.423481Z",
     "iopub.status.idle": "2022-09-30T15:01:45.064922Z",
     "shell.execute_reply": "2022-09-30T15:01:45.063697Z"
    },
    "papermill": {
     "duration": 1.652969,
     "end_time": "2022-09-30T15:01:45.068172",
     "exception": false,
     "start_time": "2022-09-30T15:01:43.415203",
     "status": "completed"
    },
    "tags": []
   },
   "outputs": [],
   "source": [
    "# Setup feedback system\n",
    "from learntools.core import binder\n",
    "binder.bind(globals())\n",
    "from learntools.feature_engineering_new.ex3 import *\n",
    "\n",
    "import numpy as np\n",
    "import pandas as pd\n",
    "from sklearn.model_selection import cross_val_score\n",
    "from xgboost import XGBRegressor\n",
    "\n",
    "\n",
    "def score_dataset(X, y, model=XGBRegressor()):\n",
    "    # Label encoding for categoricals\n",
    "    for colname in X.select_dtypes([\"category\", \"object\"]):\n",
    "        X[colname], _ = X[colname].factorize()\n",
    "    # Metric for Housing competition is RMSLE (Root Mean Squared Log Error)\n",
    "    score = cross_val_score(\n",
    "        model, X, y, cv=5, scoring=\"neg_mean_squared_log_error\",\n",
    "    )\n",
    "    score = -1 * score.mean()\n",
    "    score = np.sqrt(score)\n",
    "    return score\n",
    "\n",
    "\n",
    "# Prepare data\n",
    "df = pd.read_csv(\"../input/fe-course-data/ames.csv\")\n",
    "X = df.copy()\n",
    "y = X.pop(\"SalePrice\")"
   ]
  },
  {
   "cell_type": "markdown",
   "id": "cd067d43",
   "metadata": {
    "papermill": {
     "duration": 0.005699,
     "end_time": "2022-09-30T15:01:45.079924",
     "exception": false,
     "start_time": "2022-09-30T15:01:45.074225",
     "status": "completed"
    },
    "tags": []
   },
   "source": [
    "-------------------------------------------------------------------------------\n",
    "\n",
    "Let's start with a few mathematical combinations. We'll focus on features describing areas -- having the same units (square-feet) makes it easy to combine them in sensible ways. Since we're using XGBoost (a tree-based model), we'll focus on ratios and sums.\n",
    "\n",
    "# 1) Create Mathematical Transforms\n",
    "\n",
    "Create the following features:\n",
    "\n",
    "- `LivLotRatio`: the ratio of `GrLivArea` to `LotArea`\n",
    "- `Spaciousness`: the sum of `FirstFlrSF` and `SecondFlrSF` divided by `TotRmsAbvGrd`\n",
    "- `TotalOutsideSF`: the sum of `WoodDeckSF`, `OpenPorchSF`, `EnclosedPorch`, `Threeseasonporch`, and `ScreenPorch`"
   ]
  },
  {
   "cell_type": "code",
   "execution_count": 2,
   "id": "8d60c3d3",
   "metadata": {
    "execution": {
     "iopub.execute_input": "2022-09-30T15:01:45.094208Z",
     "iopub.status.busy": "2022-09-30T15:01:45.093615Z",
     "iopub.status.idle": "2022-09-30T15:01:45.123475Z",
     "shell.execute_reply": "2022-09-30T15:01:45.122139Z"
    },
    "lines_to_next_cell": 0,
    "papermill": {
     "duration": 0.041005,
     "end_time": "2022-09-30T15:01:45.126824",
     "exception": false,
     "start_time": "2022-09-30T15:01:45.085819",
     "status": "completed"
    },
    "tags": []
   },
   "outputs": [
    {
     "data": {
      "application/javascript": [
       "parent.postMessage({\"jupyterEvent\": \"custom.exercise_interaction\", \"data\": {\"outcomeType\": 1, \"valueTowardsCompletion\": 0.2, \"interactionType\": 1, \"questionType\": 2, \"questionId\": \"1_Q1\", \"learnToolsVersion\": \"0.3.4\", \"failureMessage\": \"\", \"exceptionClass\": \"\", \"trace\": \"\"}}, \"*\")"
      ],
      "text/plain": [
       "<IPython.core.display.Javascript object>"
      ]
     },
     "metadata": {},
     "output_type": "display_data"
    },
    {
     "data": {
      "text/markdown": [
       "<span style=\"color:#33cc33\">Correct</span>"
      ],
      "text/plain": [
       "Correct"
      ]
     },
     "metadata": {},
     "output_type": "display_data"
    }
   ],
   "source": [
    "# YOUR CODE HERE\n",
    "X_1 = pd.DataFrame()  # dataframe to hold new features\n",
    "\n",
    "X_1[\"LivLotRatio\"] = df.GrLivArea / df.LotArea\n",
    "X_1[\"Spaciousness\"] = (df.FirstFlrSF+df.SecondFlrSF)/df.TotRmsAbvGrd\n",
    "X_1[\"TotalOutsideSF\"] = df.WoodDeckSF+df.OpenPorchSF+df.EnclosedPorch+df.Threeseasonporch+df.ScreenPorch\n",
    "\n",
    "# Check your answer\n",
    "q_1.check()"
   ]
  },
  {
   "cell_type": "code",
   "execution_count": 3,
   "id": "a98034f5",
   "metadata": {
    "execution": {
     "iopub.execute_input": "2022-09-30T15:01:45.141837Z",
     "iopub.status.busy": "2022-09-30T15:01:45.141339Z",
     "iopub.status.idle": "2022-09-30T15:01:45.146634Z",
     "shell.execute_reply": "2022-09-30T15:01:45.145245Z"
    },
    "lines_to_next_cell": 0,
    "papermill": {
     "duration": 0.015954,
     "end_time": "2022-09-30T15:01:45.149154",
     "exception": false,
     "start_time": "2022-09-30T15:01:45.133200",
     "status": "completed"
    },
    "tags": []
   },
   "outputs": [],
   "source": [
    "# Lines below will give you a hint or solution code\n",
    "#q_1.hint()\n",
    "#q_1.solution()"
   ]
  },
  {
   "cell_type": "markdown",
   "id": "b24fd075",
   "metadata": {
    "papermill": {
     "duration": 0.005966,
     "end_time": "2022-09-30T15:01:45.161401",
     "exception": false,
     "start_time": "2022-09-30T15:01:45.155435",
     "status": "completed"
    },
    "tags": []
   },
   "source": [
    "-------------------------------------------------------------------------------\n",
    "\n",
    "If you've discovered an interaction effect between a numeric feature and a categorical feature, you might want to model it explicitly using a one-hot encoding, like so:\n",
    "\n",
    "```\n",
    "# One-hot encode Categorical feature, adding a column prefix \"Cat\"\n",
    "X_new = pd.get_dummies(df.Categorical, prefix=\"Cat\")\n",
    "\n",
    "# Multiply row-by-row\n",
    "X_new = X_new.mul(df.Continuous, axis=0)\n",
    "\n",
    "# Join the new features to the feature set\n",
    "X = X.join(X_new)\n",
    "```\n",
    "\n",
    "# 2) Interaction with a Categorical\n",
    "\n",
    "We discovered an interaction between `BldgType` and `GrLivArea` in Exercise 2. Now create their interaction features."
   ]
  },
  {
   "cell_type": "code",
   "execution_count": 4,
   "id": "0f9bd996",
   "metadata": {
    "execution": {
     "iopub.execute_input": "2022-09-30T15:01:45.175494Z",
     "iopub.status.busy": "2022-09-30T15:01:45.174963Z",
     "iopub.status.idle": "2022-09-30T15:01:45.192597Z",
     "shell.execute_reply": "2022-09-30T15:01:45.191318Z"
    },
    "lines_to_next_cell": 0,
    "papermill": {
     "duration": 0.027569,
     "end_time": "2022-09-30T15:01:45.195033",
     "exception": false,
     "start_time": "2022-09-30T15:01:45.167464",
     "status": "completed"
    },
    "tags": []
   },
   "outputs": [
    {
     "data": {
      "application/javascript": [
       "parent.postMessage({\"jupyterEvent\": \"custom.exercise_interaction\", \"data\": {\"outcomeType\": 1, \"valueTowardsCompletion\": 0.2, \"interactionType\": 1, \"questionType\": 2, \"questionId\": \"2_Q2\", \"learnToolsVersion\": \"0.3.4\", \"failureMessage\": \"\", \"exceptionClass\": \"\", \"trace\": \"\"}}, \"*\")"
      ],
      "text/plain": [
       "<IPython.core.display.Javascript object>"
      ]
     },
     "metadata": {},
     "output_type": "display_data"
    },
    {
     "data": {
      "text/markdown": [
       "<span style=\"color:#33cc33\">Correct</span>"
      ],
      "text/plain": [
       "Correct"
      ]
     },
     "metadata": {},
     "output_type": "display_data"
    }
   ],
   "source": [
    "# YOUR CODE HERE\n",
    "# One-hot encode BldgType. Use `prefix=\"Bldg\"` in `get_dummies`\n",
    "X_2 = pd.get_dummies(df.BldgType, prefix='Bldg')\n",
    "# Multiply\n",
    "X_2 = X_2.mul(df.GrLivArea, axis=0)\n",
    "\n",
    "\n",
    "# Check your answer\n",
    "q_2.check()"
   ]
  },
  {
   "cell_type": "code",
   "execution_count": 5,
   "id": "0a2f4b1e",
   "metadata": {
    "execution": {
     "iopub.execute_input": "2022-09-30T15:01:45.209883Z",
     "iopub.status.busy": "2022-09-30T15:01:45.209326Z",
     "iopub.status.idle": "2022-09-30T15:01:45.214750Z",
     "shell.execute_reply": "2022-09-30T15:01:45.213328Z"
    },
    "lines_to_next_cell": 0,
    "papermill": {
     "duration": 0.015593,
     "end_time": "2022-09-30T15:01:45.217096",
     "exception": false,
     "start_time": "2022-09-30T15:01:45.201503",
     "status": "completed"
    },
    "tags": []
   },
   "outputs": [],
   "source": [
    "# Lines below will give you a hint or solution code\n",
    "#q_2.hint()\n",
    "#q_2.solution()"
   ]
  },
  {
   "cell_type": "markdown",
   "id": "ac256195",
   "metadata": {
    "lines_to_next_cell": 0,
    "papermill": {
     "duration": 0.006003,
     "end_time": "2022-09-30T15:01:45.229544",
     "exception": false,
     "start_time": "2022-09-30T15:01:45.223541",
     "status": "completed"
    },
    "tags": []
   },
   "source": [
    "# 3) Count Feature\n",
    "\n",
    "Let's try creating a feature that describes how many kinds of outdoor areas a dwelling has. Create a feature `PorchTypes` that counts how many of the following are greater than 0.0:\n",
    "\n",
    "```\n",
    "WoodDeckSF\n",
    "OpenPorchSF\n",
    "EnclosedPorch\n",
    "Threeseasonporch\n",
    "ScreenPorch\n",
    "```"
   ]
  },
  {
   "cell_type": "code",
   "execution_count": 6,
   "id": "ad8d61a1",
   "metadata": {
    "execution": {
     "iopub.execute_input": "2022-09-30T15:01:45.244728Z",
     "iopub.status.busy": "2022-09-30T15:01:45.243910Z",
     "iopub.status.idle": "2022-09-30T15:01:45.263048Z",
     "shell.execute_reply": "2022-09-30T15:01:45.261896Z"
    },
    "lines_to_next_cell": 0,
    "papermill": {
     "duration": 0.030362,
     "end_time": "2022-09-30T15:01:45.266193",
     "exception": false,
     "start_time": "2022-09-30T15:01:45.235831",
     "status": "completed"
    },
    "tags": []
   },
   "outputs": [
    {
     "data": {
      "application/javascript": [
       "parent.postMessage({\"jupyterEvent\": \"custom.exercise_interaction\", \"data\": {\"outcomeType\": 1, \"valueTowardsCompletion\": 0.2, \"interactionType\": 1, \"questionType\": 2, \"questionId\": \"3_Q3\", \"learnToolsVersion\": \"0.3.4\", \"failureMessage\": \"\", \"exceptionClass\": \"\", \"trace\": \"\"}}, \"*\")"
      ],
      "text/plain": [
       "<IPython.core.display.Javascript object>"
      ]
     },
     "metadata": {},
     "output_type": "display_data"
    },
    {
     "data": {
      "text/markdown": [
       "<span style=\"color:#33cc33\">Correct</span>"
      ],
      "text/plain": [
       "Correct"
      ]
     },
     "metadata": {},
     "output_type": "display_data"
    }
   ],
   "source": [
    "X_3 = pd.DataFrame()\n",
    "\n",
    "# YOUR CODE HERE\n",
    "X_3[\"PorchTypes\"] = df[[\n",
    "    \"WoodDeckSF\",\n",
    "    \"OpenPorchSF\",\n",
    "    \"EnclosedPorch\",\n",
    "    \"Threeseasonporch\",\n",
    "    \"ScreenPorch\",\n",
    "]].gt(0.0).sum(axis=1)\n",
    "\n",
    "# Check your answer\n",
    "q_3.check()"
   ]
  },
  {
   "cell_type": "code",
   "execution_count": 7,
   "id": "b36f970f",
   "metadata": {
    "execution": {
     "iopub.execute_input": "2022-09-30T15:01:45.283348Z",
     "iopub.status.busy": "2022-09-30T15:01:45.282033Z",
     "iopub.status.idle": "2022-09-30T15:01:45.287605Z",
     "shell.execute_reply": "2022-09-30T15:01:45.286597Z"
    },
    "lines_to_next_cell": 0,
    "papermill": {
     "duration": 0.017171,
     "end_time": "2022-09-30T15:01:45.290035",
     "exception": false,
     "start_time": "2022-09-30T15:01:45.272864",
     "status": "completed"
    },
    "tags": []
   },
   "outputs": [],
   "source": [
    "# Lines below will give you a hint or solution code\n",
    "#q_3.hint()\n",
    "#q_3.solution()"
   ]
  },
  {
   "cell_type": "markdown",
   "id": "e202bc8a",
   "metadata": {
    "papermill": {
     "duration": 0.006188,
     "end_time": "2022-09-30T15:01:45.302988",
     "exception": false,
     "start_time": "2022-09-30T15:01:45.296800",
     "status": "completed"
    },
    "tags": []
   },
   "source": [
    "# 4) Break Down a Categorical Feature\n",
    "\n",
    "`MSSubClass` describes the type of a dwelling:"
   ]
  },
  {
   "cell_type": "code",
   "execution_count": 8,
   "id": "d1f987a5",
   "metadata": {
    "execution": {
     "iopub.execute_input": "2022-09-30T15:01:45.320267Z",
     "iopub.status.busy": "2022-09-30T15:01:45.318726Z",
     "iopub.status.idle": "2022-09-30T15:01:45.329750Z",
     "shell.execute_reply": "2022-09-30T15:01:45.328328Z"
    },
    "papermill": {
     "duration": 0.022174,
     "end_time": "2022-09-30T15:01:45.332477",
     "exception": false,
     "start_time": "2022-09-30T15:01:45.310303",
     "status": "completed"
    },
    "tags": []
   },
   "outputs": [
    {
     "data": {
      "text/plain": [
       "array(['One_Story_1946_and_Newer_All_Styles', 'Two_Story_1946_and_Newer',\n",
       "       'One_Story_PUD_1946_and_Newer',\n",
       "       'One_and_Half_Story_Finished_All_Ages', 'Split_Foyer',\n",
       "       'Two_Story_PUD_1946_and_Newer', 'Split_or_Multilevel',\n",
       "       'One_Story_1945_and_Older', 'Duplex_All_Styles_and_Ages',\n",
       "       'Two_Family_conversion_All_Styles_and_Ages',\n",
       "       'One_and_Half_Story_Unfinished_All_Ages',\n",
       "       'Two_Story_1945_and_Older', 'Two_and_Half_Story_All_Ages',\n",
       "       'One_Story_with_Finished_Attic_All_Ages',\n",
       "       'PUD_Multilevel_Split_Level_Foyer',\n",
       "       'One_and_Half_Story_PUD_All_Ages'], dtype=object)"
      ]
     },
     "execution_count": 8,
     "metadata": {},
     "output_type": "execute_result"
    }
   ],
   "source": [
    "df.MSSubClass.unique()"
   ]
  },
  {
   "cell_type": "markdown",
   "id": "cdf52af7",
   "metadata": {
    "papermill": {
     "duration": 0.006398,
     "end_time": "2022-09-30T15:01:45.346421",
     "exception": false,
     "start_time": "2022-09-30T15:01:45.340023",
     "status": "completed"
    },
    "tags": []
   },
   "source": [
    "You can see that there is a more general categorization described (roughly) by the first word of each category. Create a feature containing only these first words by splitting `MSSubClass` at the first underscore `_`. (Hint: In the `split` method use an argument `n=1`.)"
   ]
  },
  {
   "cell_type": "code",
   "execution_count": 9,
   "id": "b0982e55",
   "metadata": {
    "execution": {
     "iopub.execute_input": "2022-09-30T15:01:45.363354Z",
     "iopub.status.busy": "2022-09-30T15:01:45.361981Z",
     "iopub.status.idle": "2022-09-30T15:01:45.388382Z",
     "shell.execute_reply": "2022-09-30T15:01:45.387471Z"
    },
    "lines_to_next_cell": 0,
    "papermill": {
     "duration": 0.037294,
     "end_time": "2022-09-30T15:01:45.390574",
     "exception": false,
     "start_time": "2022-09-30T15:01:45.353280",
     "status": "completed"
    },
    "tags": []
   },
   "outputs": [
    {
     "data": {
      "application/javascript": [
       "parent.postMessage({\"jupyterEvent\": \"custom.exercise_interaction\", \"data\": {\"outcomeType\": 1, \"valueTowardsCompletion\": 0.2, \"interactionType\": 1, \"questionType\": 2, \"questionId\": \"4_Q4\", \"learnToolsVersion\": \"0.3.4\", \"failureMessage\": \"\", \"exceptionClass\": \"\", \"trace\": \"\"}}, \"*\")"
      ],
      "text/plain": [
       "<IPython.core.display.Javascript object>"
      ]
     },
     "metadata": {},
     "output_type": "display_data"
    },
    {
     "data": {
      "text/markdown": [
       "<span style=\"color:#33cc33\">Correct</span>"
      ],
      "text/plain": [
       "Correct"
      ]
     },
     "metadata": {},
     "output_type": "display_data"
    }
   ],
   "source": [
    "X_4 = pd.DataFrame()\n",
    "\n",
    "# YOUR CODE HERE\n",
    "X_4[\"MSClass\"] = df.MSSubClass.str.split(\"_\", n=1, expand=True)[0]\n",
    "\n",
    "# Check your answer\n",
    "q_4.check()"
   ]
  },
  {
   "cell_type": "code",
   "execution_count": 10,
   "id": "3d59e711",
   "metadata": {
    "execution": {
     "iopub.execute_input": "2022-09-30T15:01:45.407721Z",
     "iopub.status.busy": "2022-09-30T15:01:45.406829Z",
     "iopub.status.idle": "2022-09-30T15:01:45.412081Z",
     "shell.execute_reply": "2022-09-30T15:01:45.410713Z"
    },
    "lines_to_next_cell": 0,
    "papermill": {
     "duration": 0.016285,
     "end_time": "2022-09-30T15:01:45.414418",
     "exception": false,
     "start_time": "2022-09-30T15:01:45.398133",
     "status": "completed"
    },
    "tags": []
   },
   "outputs": [],
   "source": [
    "# Lines below will give you a hint or solution code\n",
    "#q_4.hint()\n",
    "#q_4.solution()"
   ]
  },
  {
   "cell_type": "markdown",
   "id": "7a58341e",
   "metadata": {
    "papermill": {
     "duration": 0.006464,
     "end_time": "2022-09-30T15:01:45.427916",
     "exception": false,
     "start_time": "2022-09-30T15:01:45.421452",
     "status": "completed"
    },
    "tags": []
   },
   "source": [
    "# 5) Use a Grouped Transform\n",
    "\n",
    "The value of a home often depends on how it compares to typical homes in its neighborhood. Create a feature `MedNhbdArea` that describes the *median* of `GrLivArea` grouped on `Neighborhood`."
   ]
  },
  {
   "cell_type": "code",
   "execution_count": 11,
   "id": "146de05e",
   "metadata": {
    "execution": {
     "iopub.execute_input": "2022-09-30T15:01:45.443918Z",
     "iopub.status.busy": "2022-09-30T15:01:45.443450Z",
     "iopub.status.idle": "2022-09-30T15:01:45.465534Z",
     "shell.execute_reply": "2022-09-30T15:01:45.464084Z"
    },
    "lines_to_next_cell": 0,
    "papermill": {
     "duration": 0.033212,
     "end_time": "2022-09-30T15:01:45.467974",
     "exception": false,
     "start_time": "2022-09-30T15:01:45.434762",
     "status": "completed"
    },
    "tags": []
   },
   "outputs": [
    {
     "data": {
      "application/javascript": [
       "parent.postMessage({\"jupyterEvent\": \"custom.exercise_interaction\", \"data\": {\"outcomeType\": 1, \"valueTowardsCompletion\": 0.2, \"interactionType\": 1, \"questionType\": 2, \"questionId\": \"5_Q5\", \"learnToolsVersion\": \"0.3.4\", \"failureMessage\": \"\", \"exceptionClass\": \"\", \"trace\": \"\"}}, \"*\")"
      ],
      "text/plain": [
       "<IPython.core.display.Javascript object>"
      ]
     },
     "metadata": {},
     "output_type": "display_data"
    },
    {
     "data": {
      "text/markdown": [
       "<span style=\"color:#33cc33\">Correct</span>"
      ],
      "text/plain": [
       "Correct"
      ]
     },
     "metadata": {},
     "output_type": "display_data"
    }
   ],
   "source": [
    "X_5 = pd.DataFrame()\n",
    "\n",
    "# YOUR CODE HERE\n",
    "X_5[\"MedNhbdArea\"] = df.groupby(\"Neighborhood\")[\"GrLivArea\"].transform(\"median\")\n",
    "\n",
    "# Check your answer\n",
    "q_5.check()"
   ]
  },
  {
   "cell_type": "code",
   "execution_count": 12,
   "id": "99b2e048",
   "metadata": {
    "execution": {
     "iopub.execute_input": "2022-09-30T15:01:45.484946Z",
     "iopub.status.busy": "2022-09-30T15:01:45.484442Z",
     "iopub.status.idle": "2022-09-30T15:01:45.489928Z",
     "shell.execute_reply": "2022-09-30T15:01:45.488856Z"
    },
    "lines_to_next_cell": 0,
    "papermill": {
     "duration": 0.017203,
     "end_time": "2022-09-30T15:01:45.492466",
     "exception": false,
     "start_time": "2022-09-30T15:01:45.475263",
     "status": "completed"
    },
    "tags": []
   },
   "outputs": [],
   "source": [
    "# Lines below will give you a hint or solution code\n",
    "#q_5.hint()\n",
    "#q_5.solution()"
   ]
  },
  {
   "cell_type": "markdown",
   "id": "8254536f",
   "metadata": {
    "papermill": {
     "duration": 0.007099,
     "end_time": "2022-09-30T15:01:45.506804",
     "exception": false,
     "start_time": "2022-09-30T15:01:45.499705",
     "status": "completed"
    },
    "tags": []
   },
   "source": [
    "Now you've made your first new feature set! If you like, you can run the cell below to score the model with all of your new features added:"
   ]
  },
  {
   "cell_type": "code",
   "execution_count": 13,
   "id": "f38de290",
   "metadata": {
    "execution": {
     "iopub.execute_input": "2022-09-30T15:01:45.523362Z",
     "iopub.status.busy": "2022-09-30T15:01:45.522759Z",
     "iopub.status.idle": "2022-09-30T15:01:50.476075Z",
     "shell.execute_reply": "2022-09-30T15:01:50.474678Z"
    },
    "papermill": {
     "duration": 4.964909,
     "end_time": "2022-09-30T15:01:50.478878",
     "exception": false,
     "start_time": "2022-09-30T15:01:45.513969",
     "status": "completed"
    },
    "tags": []
   },
   "outputs": [
    {
     "data": {
      "text/plain": [
       "0.13847331710099203"
      ]
     },
     "execution_count": 13,
     "metadata": {},
     "output_type": "execute_result"
    }
   ],
   "source": [
    "X_new = X.join([X_1, X_2, X_3, X_4, X_5])\n",
    "score_dataset(X_new, y)"
   ]
  },
  {
   "cell_type": "markdown",
   "id": "f409b20f",
   "metadata": {
    "papermill": {
     "duration": 0.007169,
     "end_time": "2022-09-30T15:01:50.494670",
     "exception": false,
     "start_time": "2022-09-30T15:01:50.487501",
     "status": "completed"
    },
    "tags": []
   },
   "source": [
    "# Keep Going #\n",
    "\n",
    "[**Untangle spatial relationships**](https://www.kaggle.com/ryanholbrook/clustering-with-k-means) by adding cluster labels to your dataset."
   ]
  },
  {
   "cell_type": "markdown",
   "id": "d24a5c0d",
   "metadata": {
    "papermill": {
     "duration": 0.006739,
     "end_time": "2022-09-30T15:01:50.508550",
     "exception": false,
     "start_time": "2022-09-30T15:01:50.501811",
     "status": "completed"
    },
    "tags": []
   },
   "source": [
    "---\n",
    "\n",
    "\n",
    "\n",
    "\n",
    "*Have questions or comments? Visit the [course discussion forum](https://www.kaggle.com/learn/feature-engineering/discussion) to chat with other learners.*"
   ]
  }
 ],
 "metadata": {
  "kernelspec": {
   "display_name": "Python 3",
   "language": "python",
   "name": "python3"
  },
  "language_info": {
   "codemirror_mode": {
    "name": "ipython",
    "version": 3
   },
   "file_extension": ".py",
   "mimetype": "text/x-python",
   "name": "python",
   "nbconvert_exporter": "python",
   "pygments_lexer": "ipython3",
   "version": "3.7.12"
  },
  "papermill": {
   "default_parameters": {},
   "duration": 18.434125,
   "end_time": "2022-09-30T15:01:51.540815",
   "environment_variables": {},
   "exception": null,
   "input_path": "__notebook__.ipynb",
   "output_path": "__notebook__.ipynb",
   "parameters": {},
   "start_time": "2022-09-30T15:01:33.106690",
   "version": "2.3.4"
  }
 },
 "nbformat": 4,
 "nbformat_minor": 5
}
